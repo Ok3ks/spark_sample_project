{
 "cells": [
  {
   "cell_type": "markdown",
   "metadata": {},
   "source": [
    "## Imports"
   ]
  },
  {
   "cell_type": "code",
   "execution_count": 1,
   "metadata": {},
   "outputs": [],
   "source": [
    "from pyspark.sql import SparkSession\n",
    "from pyspark.sql import functions as F \n",
    "from pyspark.sql import Window\n",
    "import plotly.express as px"
   ]
  },
  {
   "cell_type": "markdown",
   "metadata": {},
   "source": [
    "## Data Ingestion"
   ]
  },
  {
   "cell_type": "code",
   "execution_count": 2,
   "metadata": {},
   "outputs": [
    {
     "name": "stderr",
     "output_type": "stream",
     "text": [
      "24/01/30 16:32:38 WARN Utils: Your hostname, Ayodejis-MacBook-Pro.local resolves to a loopback address: 127.0.0.1; using 192.168.160.70 instead (on interface en0)\n",
      "24/01/30 16:32:38 WARN Utils: Set SPARK_LOCAL_IP if you need to bind to another address\n",
      "Setting default log level to \"WARN\".\n",
      "To adjust logging level use sc.setLogLevel(newLevel). For SparkR, use setLogLevel(newLevel).\n",
      "24/01/30 16:32:39 WARN NativeCodeLoader: Unable to load native-hadoop library for your platform... using builtin-java classes where applicable\n"
     ]
    },
    {
     "data": {
      "text/plain": [
       "'3.5.0'"
      ]
     },
     "execution_count": 2,
     "metadata": {},
     "output_type": "execute_result"
    }
   ],
   "source": [
    "filepaths = \"../data/CTU-IoT-Malware-Capture-1-1conn.log.labeled.csv\"\n",
    "spark = SparkSession.builder.appName(\"anomaly_detection\").getOrCreate()\n",
    "\n",
    "spark.sparkContext.setLogLevel(\"ERROR\")\n",
    "spark.sparkContext.version"
   ]
  },
  {
   "cell_type": "code",
   "execution_count": 4,
   "metadata": {},
   "outputs": [
    {
     "name": "stdout",
     "output_type": "stream",
     "text": [
      "+-----------------+------------------+---------------+---------+---------------+---------+-----+-------+--------+----------+----------+----------+----------+----------+------------+-------+---------+-------------+---------+-------------+--------------+---------+--------------------+\n",
      "|               ts|               uid|      id.orig_h|id.orig_p|      id.resp_h|id.resp_p|proto|service|duration|orig_bytes|resp_bytes|conn_state|local_orig|local_resp|missed_bytes|history|orig_pkts|orig_ip_bytes|resp_pkts|resp_ip_bytes|tunnel_parents|    label|      detailed-label|\n",
      "+-----------------+------------------+---------------+---------+---------------+---------+-----+-------+--------+----------+----------+----------+----------+----------+------------+-------+---------+-------------+---------+-------------+--------------+---------+--------------------+\n",
      "|1525879831.015811|CUmrqr4svHuSXJy5z7|192.168.100.103|    51524| 65.127.233.163|       23|  tcp|      -|2.999051|         0|         0|        S0|         -|         -|           0|      S|        3|          180|        0|            0|             -|Malicious|PartOfAHorizontal...|\n",
      "|1525879831.025055|CH98aB3s1kJeq6SFOc|192.168.100.103|    56305|  63.150.16.171|       23|  tcp|      -|       -|         -|         -|        S0|         -|         -|           0|      S|        1|           60|        0|            0|             -|Malicious|PartOfAHorizontal...|\n",
      "|1525879831.045045| C3GBTkINvXNjVGtN5|192.168.100.103|    41101|   111.40.23.49|       23|  tcp|      -|       -|         -|         -|        S0|         -|         -|           0|      S|        1|           60|        0|            0|             -|Malicious|PartOfAHorizontal...|\n",
      "|1525879832.016240| CDe43c1PtgynajGI6|192.168.100.103|    60905|131.174.215.147|       23|  tcp|      -|2.998796|         0|         0|        S0|         -|         -|           0|      S|        3|          180|        0|            0|             -|Malicious|PartOfAHorizontal...|\n",
      "|1525879832.024985|CJaDcG3MZzvf1YVYI4|192.168.100.103|    44301|    91.42.47.63|       23|  tcp|      -|       -|         -|         -|        S0|         -|         -|           0|      S|        1|           60|        0|            0|             -|Malicious|PartOfAHorizontal...|\n",
      "|1525879832.044975|CMBrup3BLXivSp4Avc|192.168.100.103|    50244|120.210.108.200|       23|  tcp|      -|       -|         -|         -|        S0|         -|         -|           0|      S|        1|           60|        0|            0|             -|Malicious|PartOfAHorizontal...|\n",
      "|1525879833.016171|CfHl9r3XMYtDQRrHnh|192.168.100.103|    34243|   147.7.65.203|    49560|  tcp|      -|2.998804|         0|         0|        S0|         -|         -|           0|      S|        3|          180|        0|            0|             -|   Benign|                   -|\n",
      "|1525879833.044906|C7USrA15nFVkniMqC5|192.168.100.103|    34840|   145.164.35.6|    21288|  tcp|      -|       -|         -|         -|        S0|         -|         -|           0|      S|        1|           60|        0|            0|             -|   Benign|                   -|\n",
      "|1525879834.024847| CDtZ4so7bHKpIeCmi|192.168.100.103|    58525| 177.75.151.125|       23|  tcp|      -|       -|         -|         -|        S0|         -|         -|           0|      S|        1|           60|        0|            0|             -|Malicious|PartOfAHorizontal...|\n",
      "|1525879834.045086| Cj9lm7amKnWiNDh9c|192.168.100.103|    43849|  94.145.70.119|     8080|  tcp|      -|       -|         -|         -|        S0|         -|         -|           0|      S|        1|           60|        0|            0|             -|Malicious|PartOfAHorizontal...|\n",
      "|1525879836.044966|CgeVK21nm6PyVgJ4ah|192.168.100.103|    40973| 62.239.193.205|     8080|  tcp|      -|       -|         -|         -|        S0|         -|         -|           0|      S|        1|           60|        0|            0|             -|Malicious|PartOfAHorizontal...|\n",
      "|1525879837.005652|CFXxTW19F3sluNEkJk|192.168.100.103|    52259|193.189.106.178|       23|  tcp|      -|2.999300|         0|         0|        S0|         -|         -|           0|      S|        3|          180|        0|            0|             -|Malicious|PartOfAHorizontal...|\n",
      "|1525879838.006081|CRRl9U39PzvL3OiS61|192.168.100.103|    42207|  10.169.219.98|     8080|  tcp|      -|2.993548|         0|         0|        S0|         -|         -|           0|      S|        3|          180|        0|            0|             -|Malicious|PartOfAHorizontal...|\n",
      "|1525879838.024838|C9hk4p2z9Y6AvlzLff|192.168.100.103|    51524| 65.127.233.163|       23|  tcp|      -|       -|         -|         -|        S0|         -|         -|           0|      S|        1|           60|        0|            0|             -|Malicious|PartOfAHorizontal...|\n",
      "|1525879839.006262|Cx7t1f1wqRES8kiTq6|192.168.100.103|    40459|212.110.180.188|       23|  tcp|      -|2.998807|         0|         0|        S0|         -|         -|           0|      S|        3|          180|        0|            0|             -|Malicious|PartOfAHorizontal...|\n",
      "|1525879839.025003| C3AFse2JfKAgalsik|192.168.100.103|    60905|131.174.215.147|       23|  tcp|      -|       -|         -|         -|        S0|         -|         -|           0|      S|        1|           60|        0|            0|             -|Malicious|PartOfAHorizontal...|\n",
      "|1525879839.044992| CdQJe43wv9ipLJklh|192.168.100.103|    56305|  63.150.16.171|       23|  tcp|      -|       -|         -|         -|        S0|         -|         -|           0|      S|        1|           60|        0|            0|             -|Malicious|PartOfAHorizontal...|\n",
      "|1525879840.024934|C3ajsm4byxMkPys9Wa|192.168.100.103|    34243|   147.7.65.203|    49560|  tcp|      -|       -|         -|         -|        S0|         -|         -|           0|      S|        1|           60|        0|            0|             -|   Benign|                   -|\n",
      "|1525879840.044922|Cta8kR3Zfh09uPo77k|192.168.100.103|    44301|    91.42.47.63|       23|  tcp|      -|       -|         -|         -|        S0|         -|         -|           0|      S|        1|           60|        0|            0|             -|Malicious|PartOfAHorizontal...|\n",
      "|1525879841.005875|CRwLRg1TuvUDjEHuI5|192.168.100.103|    39813|  167.185.30.24|       23|  tcp|      -|2.999050|         0|         0|        S0|         -|         -|           0|      S|        3|          180|        0|            0|             -|Malicious|PartOfAHorizontal...|\n",
      "+-----------------+------------------+---------------+---------+---------------+---------+-----+-------+--------+----------+----------+----------+----------+----------+------------+-------+---------+-------------+---------+-------------+--------------+---------+--------------------+\n",
      "only showing top 20 rows\n",
      "\n"
     ]
    }
   ],
   "source": [
    "df.show()"
   ]
  },
  {
   "cell_type": "code",
   "execution_count": 5,
   "metadata": {},
   "outputs": [],
   "source": [
    "## Pre-processing"
   ]
  },
  {
   "cell_type": "code",
   "execution_count": 7,
   "metadata": {},
   "outputs": [],
   "source": [
    "filepaths = \"../data/CTU-IoT-Malware-Capture-1-1conn.log.labeled.csv\"\n",
    "spark = SparkSession.builder.appName(\"anomaly_detection\").getOrCreate()\n",
    "df = spark.read.option('delimiter', \"|\").csv(filepaths, header = True)\n",
    "df = df.withColumn(\"dt\", F.from_unixtime(\"ts\")).withColumn(\"dt\", F.to_timestamp(\"dt\"))  \n",
    "\n",
    "df = df.withColumnsRenamed(\n",
    "    {\n",
    "        \"id.orig_h\": \"source_ip\",\n",
    "        \"id.orig_p\": \"source_port\",\n",
    "        \"id.resp_h\": \"dest_ip\",\n",
    "        \"id.resp_p\": \"dest_port\",\n",
    "    }\n",
    ")"
   ]
  },
  {
   "cell_type": "code",
   "execution_count": 8,
   "metadata": {},
   "outputs": [
    {
     "data": {
      "text/plain": [
       "StructType([StructField('ts', StringType(), True), StructField('uid', StringType(), True), StructField('source_ip', StringType(), True), StructField('source_port', StringType(), True), StructField('dest_ip', StringType(), True), StructField('dest_port', StringType(), True), StructField('proto', StringType(), True), StructField('service', StringType(), True), StructField('duration', StringType(), True), StructField('orig_bytes', StringType(), True), StructField('resp_bytes', StringType(), True), StructField('conn_state', StringType(), True), StructField('local_orig', StringType(), True), StructField('local_resp', StringType(), True), StructField('missed_bytes', StringType(), True), StructField('history', StringType(), True), StructField('orig_pkts', StringType(), True), StructField('orig_ip_bytes', StringType(), True), StructField('resp_pkts', StringType(), True), StructField('resp_ip_bytes', StringType(), True), StructField('tunnel_parents', StringType(), True), StructField('label', StringType(), True), StructField('detailed-label', StringType(), True), StructField('dt', TimestampType(), True)])"
      ]
     },
     "execution_count": 8,
     "metadata": {},
     "output_type": "execute_result"
    }
   ],
   "source": [
    "df.schema"
   ]
  },
  {
   "cell_type": "code",
   "execution_count": 9,
   "metadata": {},
   "outputs": [
    {
     "name": "stdout",
     "output_type": "stream",
     "text": [
      "+-----------------+------------------+---------------+-----------+---------------+---------+-----+-------+--------+----------+----------+----------+----------+----------+------------+-------+---------+-------------+---------+-------------+--------------+---------+--------------------+-------------------+\n",
      "|               ts|               uid|      source_ip|source_port|        dest_ip|dest_port|proto|service|duration|orig_bytes|resp_bytes|conn_state|local_orig|local_resp|missed_bytes|history|orig_pkts|orig_ip_bytes|resp_pkts|resp_ip_bytes|tunnel_parents|    label|      detailed-label|                 dt|\n",
      "+-----------------+------------------+---------------+-----------+---------------+---------+-----+-------+--------+----------+----------+----------+----------+----------+------------+-------+---------+-------------+---------+-------------+--------------+---------+--------------------+-------------------+\n",
      "|1525879831.015811|CUmrqr4svHuSXJy5z7|192.168.100.103|      51524| 65.127.233.163|       23|  tcp|      -|2.999051|         0|         0|        S0|         -|         -|           0|      S|        3|          180|        0|            0|             -|Malicious|PartOfAHorizontal...|2018-05-09 16:30:31|\n",
      "|1525879831.025055|CH98aB3s1kJeq6SFOc|192.168.100.103|      56305|  63.150.16.171|       23|  tcp|      -|       -|         -|         -|        S0|         -|         -|           0|      S|        1|           60|        0|            0|             -|Malicious|PartOfAHorizontal...|2018-05-09 16:30:31|\n",
      "|1525879831.045045| C3GBTkINvXNjVGtN5|192.168.100.103|      41101|   111.40.23.49|       23|  tcp|      -|       -|         -|         -|        S0|         -|         -|           0|      S|        1|           60|        0|            0|             -|Malicious|PartOfAHorizontal...|2018-05-09 16:30:31|\n",
      "|1525879832.016240| CDe43c1PtgynajGI6|192.168.100.103|      60905|131.174.215.147|       23|  tcp|      -|2.998796|         0|         0|        S0|         -|         -|           0|      S|        3|          180|        0|            0|             -|Malicious|PartOfAHorizontal...|2018-05-09 16:30:32|\n",
      "|1525879832.024985|CJaDcG3MZzvf1YVYI4|192.168.100.103|      44301|    91.42.47.63|       23|  tcp|      -|       -|         -|         -|        S0|         -|         -|           0|      S|        1|           60|        0|            0|             -|Malicious|PartOfAHorizontal...|2018-05-09 16:30:32|\n",
      "|1525879832.044975|CMBrup3BLXivSp4Avc|192.168.100.103|      50244|120.210.108.200|       23|  tcp|      -|       -|         -|         -|        S0|         -|         -|           0|      S|        1|           60|        0|            0|             -|Malicious|PartOfAHorizontal...|2018-05-09 16:30:32|\n",
      "|1525879833.016171|CfHl9r3XMYtDQRrHnh|192.168.100.103|      34243|   147.7.65.203|    49560|  tcp|      -|2.998804|         0|         0|        S0|         -|         -|           0|      S|        3|          180|        0|            0|             -|   Benign|                   -|2018-05-09 16:30:33|\n",
      "|1525879833.044906|C7USrA15nFVkniMqC5|192.168.100.103|      34840|   145.164.35.6|    21288|  tcp|      -|       -|         -|         -|        S0|         -|         -|           0|      S|        1|           60|        0|            0|             -|   Benign|                   -|2018-05-09 16:30:33|\n",
      "|1525879834.024847| CDtZ4so7bHKpIeCmi|192.168.100.103|      58525| 177.75.151.125|       23|  tcp|      -|       -|         -|         -|        S0|         -|         -|           0|      S|        1|           60|        0|            0|             -|Malicious|PartOfAHorizontal...|2018-05-09 16:30:34|\n",
      "|1525879834.045086| Cj9lm7amKnWiNDh9c|192.168.100.103|      43849|  94.145.70.119|     8080|  tcp|      -|       -|         -|         -|        S0|         -|         -|           0|      S|        1|           60|        0|            0|             -|Malicious|PartOfAHorizontal...|2018-05-09 16:30:34|\n",
      "|1525879836.044966|CgeVK21nm6PyVgJ4ah|192.168.100.103|      40973| 62.239.193.205|     8080|  tcp|      -|       -|         -|         -|        S0|         -|         -|           0|      S|        1|           60|        0|            0|             -|Malicious|PartOfAHorizontal...|2018-05-09 16:30:36|\n",
      "|1525879837.005652|CFXxTW19F3sluNEkJk|192.168.100.103|      52259|193.189.106.178|       23|  tcp|      -|2.999300|         0|         0|        S0|         -|         -|           0|      S|        3|          180|        0|            0|             -|Malicious|PartOfAHorizontal...|2018-05-09 16:30:37|\n",
      "|1525879838.006081|CRRl9U39PzvL3OiS61|192.168.100.103|      42207|  10.169.219.98|     8080|  tcp|      -|2.993548|         0|         0|        S0|         -|         -|           0|      S|        3|          180|        0|            0|             -|Malicious|PartOfAHorizontal...|2018-05-09 16:30:38|\n",
      "|1525879838.024838|C9hk4p2z9Y6AvlzLff|192.168.100.103|      51524| 65.127.233.163|       23|  tcp|      -|       -|         -|         -|        S0|         -|         -|           0|      S|        1|           60|        0|            0|             -|Malicious|PartOfAHorizontal...|2018-05-09 16:30:38|\n",
      "|1525879839.006262|Cx7t1f1wqRES8kiTq6|192.168.100.103|      40459|212.110.180.188|       23|  tcp|      -|2.998807|         0|         0|        S0|         -|         -|           0|      S|        3|          180|        0|            0|             -|Malicious|PartOfAHorizontal...|2018-05-09 16:30:39|\n",
      "|1525879839.025003| C3AFse2JfKAgalsik|192.168.100.103|      60905|131.174.215.147|       23|  tcp|      -|       -|         -|         -|        S0|         -|         -|           0|      S|        1|           60|        0|            0|             -|Malicious|PartOfAHorizontal...|2018-05-09 16:30:39|\n",
      "|1525879839.044992| CdQJe43wv9ipLJklh|192.168.100.103|      56305|  63.150.16.171|       23|  tcp|      -|       -|         -|         -|        S0|         -|         -|           0|      S|        1|           60|        0|            0|             -|Malicious|PartOfAHorizontal...|2018-05-09 16:30:39|\n",
      "|1525879840.024934|C3ajsm4byxMkPys9Wa|192.168.100.103|      34243|   147.7.65.203|    49560|  tcp|      -|       -|         -|         -|        S0|         -|         -|           0|      S|        1|           60|        0|            0|             -|   Benign|                   -|2018-05-09 16:30:40|\n",
      "|1525879840.044922|Cta8kR3Zfh09uPo77k|192.168.100.103|      44301|    91.42.47.63|       23|  tcp|      -|       -|         -|         -|        S0|         -|         -|           0|      S|        1|           60|        0|            0|             -|Malicious|PartOfAHorizontal...|2018-05-09 16:30:40|\n",
      "|1525879841.005875|CRwLRg1TuvUDjEHuI5|192.168.100.103|      39813|  167.185.30.24|       23|  tcp|      -|2.999050|         0|         0|        S0|         -|         -|           0|      S|        3|          180|        0|            0|             -|Malicious|PartOfAHorizontal...|2018-05-09 16:30:41|\n",
      "+-----------------+------------------+---------------+-----------+---------------+---------+-----+-------+--------+----------+----------+----------+----------+----------+------------+-------+---------+-------------+---------+-------------+--------------+---------+--------------------+-------------------+\n",
      "only showing top 20 rows\n",
      "\n"
     ]
    }
   ],
   "source": [
    "df.show()"
   ]
  },
  {
   "cell_type": "code",
   "execution_count": 10,
   "metadata": {},
   "outputs": [
    {
     "name": "stderr",
     "output_type": "stream",
     "text": [
      "[Stage 3:=============================>                             (4 + 4) / 8]\r"
     ]
    },
    {
     "name": "stdout",
     "output_type": "stream",
     "text": [
      "+-------------------+-------------------+\n",
      "|           min_date|           max_date|\n",
      "+-------------------+-------------------+\n",
      "|2018-05-09 16:30:31|2018-05-14 08:24:43|\n",
      "+-------------------+-------------------+\n",
      "\n"
     ]
    },
    {
     "name": "stderr",
     "output_type": "stream",
     "text": [
      "                                                                                \r"
     ]
    }
   ],
   "source": [
    "df.agg(\n",
    "    F.min(\"dt\").alias(\"min_date\"),\n",
    "    F.max(\"dt\").alias(\"max_date\")    \n",
    ").show()"
   ]
  },
  {
   "cell_type": "code",
   "execution_count": 11,
   "metadata": {},
   "outputs": [
    {
     "name": "stderr",
     "output_type": "stream",
     "text": [
      "                                                                                \r"
     ]
    },
    {
     "name": "stdout",
     "output_type": "stream",
     "text": [
      "+---------+-----------+-------+---------+-----+-------+--------+----------+----------+----------+----------+----------+------------+-------+---------+-------------+---------+-------------+--------------+-----+--------------+\n",
      "|source_ip|source_port|dest_ip|dest_port|proto|service|duration|orig_bytes|resp_bytes|conn_state|local_orig|local_resp|missed_bytes|history|orig_pkts|orig_ip_bytes|resp_pkts|resp_ip_bytes|tunnel_parents|label|detailed-label|\n",
      "+---------+-----------+-------+---------+-----+-------+--------+----------+----------+----------+----------+----------+------------+-------+---------+-------------+---------+-------------+--------------+-----+--------------+\n",
      "|    15004|      32696| 597107|    75844|    3|      5|   16650|       171|       479|        11|         1|         1|           2|    126|       60|         1262|       70|         1142|             1|    2|             3|\n",
      "+---------+-----------+-------+---------+-----+-------+--------+----------+----------+----------+----------+----------+------------+-------+---------+-------------+---------+-------------+--------------+-----+--------------+\n",
      "\n"
     ]
    },
    {
     "name": "stderr",
     "output_type": "stream",
     "text": [
      "[Stage 12:=======>                                                  (1 + 7) / 8]\r"
     ]
    },
    {
     "name": "stdout",
     "output_type": "stream",
     "text": [
      "Static cols in this dataset are ['local_orig', 'local_resp', 'tunnel_parents']\n"
     ]
    },
    {
     "name": "stderr",
     "output_type": "stream",
     "text": [
      "                                                                                \r"
     ]
    }
   ],
   "source": [
    "to_analyse = df.columns\n",
    "to_analyse = to_analyse[2:-1]\n",
    "\n",
    "unique_counts = df.agg(*(F.countDistinct(F.col(c)).alias(c) for c in to_analyse))\n",
    "# * unpacks the element in a list\n",
    "\n",
    "unique_counts.show()\n",
    "unique_counts = unique_counts.first()\n",
    "\n",
    "static_cols = [c for c in unique_counts.asDict() if unique_counts[c] == 1]\n",
    "print(\"Static cols in this dataset are {}\".format(static_cols))"
   ]
  },
  {
   "cell_type": "code",
   "execution_count": 12,
   "metadata": {},
   "outputs": [
    {
     "data": {
      "text/plain": [
       "DataFrame[ts: string, uid: string, source_ip: string, source_port: string, dest_ip: string, dest_port: string, proto: string, service: string, duration: string, orig_bytes: string, resp_bytes: string, conn_state: string, missed_bytes: string, history: string, orig_pkts: string, orig_ip_bytes: string, resp_pkts: string, resp_ip_bytes: string, label: string, detailed-label: string, dt: timestamp]"
      ]
     },
     "execution_count": 12,
     "metadata": {},
     "output_type": "execute_result"
    }
   ],
   "source": [
    "filepaths = \"../data/CTU-IoT-Malware-Capture-1-1conn.log.labeled.csv\"\n",
    "spark = SparkSession.builder.appName(\"anomaly_detection\").getOrCreate()\n",
    "df = spark.read.option('delimiter', \"|\").csv(filepaths, header = True)\n",
    "df = df.withColumn(\"dt\", F.from_unixtime(\"ts\")).withColumn(\"dt\", F.to_timestamp(\"dt\"))  \n",
    "\n",
    "df = df.withColumnsRenamed(\n",
    "    {\n",
    "        \"id.orig_h\": \"source_ip\",\n",
    "        \"id.orig_p\": \"source_port\",\n",
    "        \"id.resp_h\": \"destination_ip\",\n",
    "        \"id.resp_p\": \"destination_port\",\n",
    "    }\n",
    ")\n",
    "df.drop(*static_cols)"
   ]
  },
  {
   "cell_type": "code",
   "execution_count": 15,
   "metadata": {},
   "outputs": [
    {
     "name": "stderr",
     "output_type": "stream",
     "text": [
      "[Stage 39:=======>                                                  (1 + 7) / 8]\r"
     ]
    },
    {
     "name": "stdout",
     "output_type": "stream",
     "text": [
      "+---------+-----------+-------+---------+-----+-------+--------+----------+----------+----------+------------+-------+---------+-------------+---------+-------------+-----+--------------+\n",
      "|source_ip|source_port|dest_ip|dest_port|proto|service|duration|orig_bytes|resp_bytes|conn_state|missed_bytes|history|orig_pkts|orig_ip_bytes|resp_pkts|resp_ip_bytes|label|detailed-label|\n",
      "+---------+-----------+-------+---------+-----+-------+--------+----------+----------+----------+------------+-------+---------+-------------+---------+-------------+-----+--------------+\n",
      "|        0|          0|      0|        0|    0|1005507|  796300|    796300|    796300|         0|           0|  17421|        0|            0|        0|            0|    0|        469275|\n",
      "+---------+-----------+-------+---------+-----+-------+--------+----------+----------+----------+------------+-------+---------+-------------+---------+-------------+-----+--------------+\n",
      "\n"
     ]
    },
    {
     "name": "stderr",
     "output_type": "stream",
     "text": [
      "                                                                                \r"
     ]
    }
   ],
   "source": [
    "df = df.replace(\"-\", None)\n",
    "remaining_cols = [f for f in to_analyse if f not in static_cols]\n",
    "\n",
    "df.select(\n",
    "    [F.count(F.when(F.isnan(c) | F.col(c).isNull(), c)).alias(c) for c in remaining_cols]\n",
    ").show()"
   ]
  },
  {
   "cell_type": "code",
   "execution_count": 49,
   "metadata": {},
   "outputs": [],
   "source": [
    "numerical_cols = [\n",
    "    \"duration\",\n",
    "    \"orig_bytes\",\n",
    "    \"resp_bytes\",\n",
    "    \"orig_pkts\",\n",
    "    \"orig_ip_bytes\",\n",
    "    \"resp_pkts\",\n",
    "    \"resp_ip_bytes\"]\n",
    "\n",
    "categorical_cols = [\"proto\", \"service\", \"conn_state\"]\n",
    "label = \"label\"\n",
    "\n",
    "all_cols = numerical_cols + categorical_cols"
   ]
  },
  {
   "cell_type": "code",
   "execution_count": 62,
   "metadata": {},
   "outputs": [
    {
     "data": {
      "text/plain": [
       "StructType([StructField('ts', StringType(), True), StructField('uid', StringType(), True), StructField('source_ip', StringType(), True), StructField('source_port', StringType(), True), StructField('dest_ip', StringType(), True), StructField('dest_port', StringType(), True), StructField('proto', StringType(), True), StructField('service', StringType(), True), StructField('duration', DoubleType(), True), StructField('orig_bytes', DoubleType(), True), StructField('resp_bytes', DoubleType(), True), StructField('conn_state', StringType(), True), StructField('local_orig', StringType(), True), StructField('local_resp', StringType(), True), StructField('missed_bytes', StringType(), True), StructField('history', StringType(), True), StructField('orig_pkts', DoubleType(), True), StructField('orig_ip_bytes', DoubleType(), True), StructField('resp_pkts', DoubleType(), True), StructField('resp_ip_bytes', DoubleType(), True), StructField('tunnel_parents', StringType(), True), StructField('label', StringType(), True), StructField('detailed-label', StringType(), True), StructField('dt', TimestampType(), True), StructField('day', TimestampType(), True), StructField('hour', TimestampType(), True), StructField('minute', TimestampType(), True), StructField('second', TimestampType(), True)])"
      ]
     },
     "execution_count": 62,
     "metadata": {},
     "output_type": "execute_result"
    }
   ],
   "source": [
    "df.schema"
   ]
  },
  {
   "cell_type": "markdown",
   "metadata": {},
   "source": [
    "## Data Pre-processing Pipeline"
   ]
  },
  {
   "cell_type": "code",
   "execution_count": 82,
   "metadata": {},
   "outputs": [
    {
     "name": "stdout",
     "output_type": "stream",
     "text": [
      "+-----------------+------------------+---------------+-----------+---------------+---------+-----+-------+---------+----------+----------+----------+-------+---------+-------------+---------+-------------+---------+--------------------+-------------------+-------------------+-------------------+-------------------+-------------------+\n",
      "|               ts|               uid|      source_ip|source_port|        dest_ip|dest_port|proto|service| duration|orig_bytes|resp_bytes|conn_state|history|orig_pkts|orig_ip_bytes|resp_pkts|resp_ip_bytes|    label|      detailed-label|                 dt|                day|               hour|             minute|             second|\n",
      "+-----------------+------------------+---------------+-----------+---------------+---------+-----+-------+---------+----------+----------+----------+-------+---------+-------------+---------+-------------+---------+--------------------+-------------------+-------------------+-------------------+-------------------+-------------------+\n",
      "|1525879831.015811|CUmrqr4svHuSXJy5z7|192.168.100.103|      51524| 65.127.233.163|       23|  tcp|missing| 2.999051|       0.0|       0.0|        S0|      S|      3.0|        180.0|      0.0|          0.0|Malicious|PartOfAHorizontal...|2018-05-09 16:30:31|2018-05-09 00:00:00|2018-05-09 16:00:00|2018-05-09 16:30:00|2018-05-09 16:30:31|\n",
      "|1525879831.025055|CH98aB3s1kJeq6SFOc|192.168.100.103|      56305|  63.150.16.171|       23|  tcp|missing|-999999.0| -999999.0| -999999.0|        S0|      S|      1.0|         60.0|      0.0|          0.0|Malicious|PartOfAHorizontal...|2018-05-09 16:30:31|2018-05-09 00:00:00|2018-05-09 16:00:00|2018-05-09 16:30:00|2018-05-09 16:30:31|\n",
      "|1525879831.045045| C3GBTkINvXNjVGtN5|192.168.100.103|      41101|   111.40.23.49|       23|  tcp|missing|-999999.0| -999999.0| -999999.0|        S0|      S|      1.0|         60.0|      0.0|          0.0|Malicious|PartOfAHorizontal...|2018-05-09 16:30:31|2018-05-09 00:00:00|2018-05-09 16:00:00|2018-05-09 16:30:00|2018-05-09 16:30:31|\n",
      "|1525879832.016240| CDe43c1PtgynajGI6|192.168.100.103|      60905|131.174.215.147|       23|  tcp|missing| 2.998796|       0.0|       0.0|        S0|      S|      3.0|        180.0|      0.0|          0.0|Malicious|PartOfAHorizontal...|2018-05-09 16:30:32|2018-05-09 00:00:00|2018-05-09 16:00:00|2018-05-09 16:30:00|2018-05-09 16:30:32|\n",
      "|1525879832.024985|CJaDcG3MZzvf1YVYI4|192.168.100.103|      44301|    91.42.47.63|       23|  tcp|missing|-999999.0| -999999.0| -999999.0|        S0|      S|      1.0|         60.0|      0.0|          0.0|Malicious|PartOfAHorizontal...|2018-05-09 16:30:32|2018-05-09 00:00:00|2018-05-09 16:00:00|2018-05-09 16:30:00|2018-05-09 16:30:32|\n",
      "|1525879832.044975|CMBrup3BLXivSp4Avc|192.168.100.103|      50244|120.210.108.200|       23|  tcp|missing|-999999.0| -999999.0| -999999.0|        S0|      S|      1.0|         60.0|      0.0|          0.0|Malicious|PartOfAHorizontal...|2018-05-09 16:30:32|2018-05-09 00:00:00|2018-05-09 16:00:00|2018-05-09 16:30:00|2018-05-09 16:30:32|\n",
      "|1525879833.016171|CfHl9r3XMYtDQRrHnh|192.168.100.103|      34243|   147.7.65.203|    49560|  tcp|missing| 2.998804|       0.0|       0.0|        S0|      S|      3.0|        180.0|      0.0|          0.0|   Benign|                NULL|2018-05-09 16:30:33|2018-05-09 00:00:00|2018-05-09 16:00:00|2018-05-09 16:30:00|2018-05-09 16:30:33|\n",
      "|1525879833.044906|C7USrA15nFVkniMqC5|192.168.100.103|      34840|   145.164.35.6|    21288|  tcp|missing|-999999.0| -999999.0| -999999.0|        S0|      S|      1.0|         60.0|      0.0|          0.0|   Benign|                NULL|2018-05-09 16:30:33|2018-05-09 00:00:00|2018-05-09 16:00:00|2018-05-09 16:30:00|2018-05-09 16:30:33|\n",
      "|1525879834.024847| CDtZ4so7bHKpIeCmi|192.168.100.103|      58525| 177.75.151.125|       23|  tcp|missing|-999999.0| -999999.0| -999999.0|        S0|      S|      1.0|         60.0|      0.0|          0.0|Malicious|PartOfAHorizontal...|2018-05-09 16:30:34|2018-05-09 00:00:00|2018-05-09 16:00:00|2018-05-09 16:30:00|2018-05-09 16:30:34|\n",
      "|1525879834.045086| Cj9lm7amKnWiNDh9c|192.168.100.103|      43849|  94.145.70.119|     8080|  tcp|missing|-999999.0| -999999.0| -999999.0|        S0|      S|      1.0|         60.0|      0.0|          0.0|Malicious|PartOfAHorizontal...|2018-05-09 16:30:34|2018-05-09 00:00:00|2018-05-09 16:00:00|2018-05-09 16:30:00|2018-05-09 16:30:34|\n",
      "|1525879836.044966|CgeVK21nm6PyVgJ4ah|192.168.100.103|      40973| 62.239.193.205|     8080|  tcp|missing|-999999.0| -999999.0| -999999.0|        S0|      S|      1.0|         60.0|      0.0|          0.0|Malicious|PartOfAHorizontal...|2018-05-09 16:30:36|2018-05-09 00:00:00|2018-05-09 16:00:00|2018-05-09 16:30:00|2018-05-09 16:30:36|\n",
      "|1525879837.005652|CFXxTW19F3sluNEkJk|192.168.100.103|      52259|193.189.106.178|       23|  tcp|missing|   2.9993|       0.0|       0.0|        S0|      S|      3.0|        180.0|      0.0|          0.0|Malicious|PartOfAHorizontal...|2018-05-09 16:30:37|2018-05-09 00:00:00|2018-05-09 16:00:00|2018-05-09 16:30:00|2018-05-09 16:30:37|\n",
      "|1525879838.006081|CRRl9U39PzvL3OiS61|192.168.100.103|      42207|  10.169.219.98|     8080|  tcp|missing| 2.993548|       0.0|       0.0|        S0|      S|      3.0|        180.0|      0.0|          0.0|Malicious|PartOfAHorizontal...|2018-05-09 16:30:38|2018-05-09 00:00:00|2018-05-09 16:00:00|2018-05-09 16:30:00|2018-05-09 16:30:38|\n",
      "|1525879838.024838|C9hk4p2z9Y6AvlzLff|192.168.100.103|      51524| 65.127.233.163|       23|  tcp|missing|-999999.0| -999999.0| -999999.0|        S0|      S|      1.0|         60.0|      0.0|          0.0|Malicious|PartOfAHorizontal...|2018-05-09 16:30:38|2018-05-09 00:00:00|2018-05-09 16:00:00|2018-05-09 16:30:00|2018-05-09 16:30:38|\n",
      "|1525879839.006262|Cx7t1f1wqRES8kiTq6|192.168.100.103|      40459|212.110.180.188|       23|  tcp|missing| 2.998807|       0.0|       0.0|        S0|      S|      3.0|        180.0|      0.0|          0.0|Malicious|PartOfAHorizontal...|2018-05-09 16:30:39|2018-05-09 00:00:00|2018-05-09 16:00:00|2018-05-09 16:30:00|2018-05-09 16:30:39|\n",
      "|1525879839.025003| C3AFse2JfKAgalsik|192.168.100.103|      60905|131.174.215.147|       23|  tcp|missing|-999999.0| -999999.0| -999999.0|        S0|      S|      1.0|         60.0|      0.0|          0.0|Malicious|PartOfAHorizontal...|2018-05-09 16:30:39|2018-05-09 00:00:00|2018-05-09 16:00:00|2018-05-09 16:30:00|2018-05-09 16:30:39|\n",
      "|1525879839.044992| CdQJe43wv9ipLJklh|192.168.100.103|      56305|  63.150.16.171|       23|  tcp|missing|-999999.0| -999999.0| -999999.0|        S0|      S|      1.0|         60.0|      0.0|          0.0|Malicious|PartOfAHorizontal...|2018-05-09 16:30:39|2018-05-09 00:00:00|2018-05-09 16:00:00|2018-05-09 16:30:00|2018-05-09 16:30:39|\n",
      "|1525879840.024934|C3ajsm4byxMkPys9Wa|192.168.100.103|      34243|   147.7.65.203|    49560|  tcp|missing|-999999.0| -999999.0| -999999.0|        S0|      S|      1.0|         60.0|      0.0|          0.0|   Benign|                NULL|2018-05-09 16:30:40|2018-05-09 00:00:00|2018-05-09 16:00:00|2018-05-09 16:30:00|2018-05-09 16:30:40|\n",
      "|1525879840.044922|Cta8kR3Zfh09uPo77k|192.168.100.103|      44301|    91.42.47.63|       23|  tcp|missing|-999999.0| -999999.0| -999999.0|        S0|      S|      1.0|         60.0|      0.0|          0.0|Malicious|PartOfAHorizontal...|2018-05-09 16:30:40|2018-05-09 00:00:00|2018-05-09 16:00:00|2018-05-09 16:30:00|2018-05-09 16:30:40|\n",
      "|1525879841.005875|CRwLRg1TuvUDjEHuI5|192.168.100.103|      39813|  167.185.30.24|       23|  tcp|missing|  2.99905|       0.0|       0.0|        S0|      S|      3.0|        180.0|      0.0|          0.0|Malicious|PartOfAHorizontal...|2018-05-09 16:30:41|2018-05-09 00:00:00|2018-05-09 16:00:00|2018-05-09 16:30:00|2018-05-09 16:30:41|\n",
      "+-----------------+------------------+---------------+-----------+---------------+---------+-----+-------+---------+----------+----------+----------+-------+---------+-------------+---------+-------------+---------+--------------------+-------------------+-------------------+-------------------+-------------------+-------------------+\n",
      "only showing top 20 rows\n",
      "\n"
     ]
    }
   ],
   "source": [
    "filepaths = \"../data/CTU-IoT-Malware-Capture-1-1conn.log.labeled.csv\"\n",
    "spark = SparkSession.builder.appName(\"anomaly_detection\").getOrCreate()\n",
    "\n",
    "static_cols = [\"local_orig\", \"local_resp\", \"missed_bytes\", \"tunnel_parents\"]\n",
    "numerical_cols = [\n",
    "    \"duration\",\n",
    "    \"orig_bytes\",\n",
    "    \"resp_bytes\",\n",
    "    \"orig_pkts\",\n",
    "    \"orig_ip_bytes\",\n",
    "    \"resp_pkts\",\n",
    "    \"resp_ip_bytes\"]\n",
    "\n",
    "categorical_cols = [\"proto\", \"service\", \"conn_state\"]\n",
    "\n",
    "preproc_df = spark.read.option('delimiter', \"|\").csv(filepaths, header = True)\n",
    "preproc_df = preproc_df.withColumn(\n",
    "                    \"dt\", F.from_unixtime(\"ts\"))\\\n",
    "                    .withColumn(\"dt\", F.to_timestamp(\"dt\"))\\\n",
    "        .withColumnsRenamed(\n",
    "                    {\n",
    "                        \"id.orig_h\": \"source_ip\",\n",
    "                        \"id.orig_p\": \"source_port\",\n",
    "                        \"id.resp_h\": \"dest_ip\",\n",
    "                        \"id.resp_p\": \"dest_port\",\n",
    "                    })\\\n",
    "        .withColumns(\n",
    "                {\n",
    "                        \"day\": F.date_trunc(\"day\", F.col(\"dt\")),\n",
    "                        \"hour\": F.date_trunc(\"hour\", F.col(\"dt\")),\n",
    "                        \"minute\": F.date_trunc(\"minute\", F.col(\"dt\")),\n",
    "                        \"second\": F.date_trunc(\"second\", F.col(\"dt\"))\n",
    "                })\\\n",
    "        .drop(*static_cols)\\\n",
    "        .replace(\"-\", None)\\\n",
    "        .withColumns({x: F.col(x).cast(\"double\") for x in numerical_cols})\\\n",
    "        .fillna({x: 'missing' for x in categorical_cols})\\\n",
    "        .fillna({x: -999999 for x in numerical_cols})\n",
    "\n",
    "preproc_df.show()"
   ]
  }
 ],
 "metadata": {
  "kernelspec": {
   "display_name": "Python 3",
   "language": "python",
   "name": "python3"
  },
  "language_info": {
   "codemirror_mode": {
    "name": "ipython",
    "version": 3
   },
   "file_extension": ".py",
   "mimetype": "text/x-python",
   "name": "python",
   "nbconvert_exporter": "python",
   "pygments_lexer": "ipython3",
   "version": "3.8.10"
  }
 },
 "nbformat": 4,
 "nbformat_minor": 2
}
